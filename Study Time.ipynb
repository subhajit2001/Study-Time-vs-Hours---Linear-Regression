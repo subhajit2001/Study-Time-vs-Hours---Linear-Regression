{
 "cells": [
  {
   "cell_type": "markdown",
   "id": "aa1be6ec-b8aa-4a9b-a4d2-dcf1d3c4d12e",
   "metadata": {},
   "source": [
    "## **Predicting the Percentage of an Student based on the number of Study Hours**\n",
    "In this dataset we have 25 tuples of data and 2 attributes are present.From this dataset we are going to infer about the scores obtained when a person studies for 9.5 Hours a day. In this data we are going to use suvervised machine learning model LinearRegression, imported from the Scikit Learn Package.\n",
    "\n",
    "Data Source = <a>https://raw.githubusercontent.com/AdiPersonalWorks/Random/master/student_scores%20-%20student_scores.csv</a>\n",
    "\n",
    "#### **Column Names**\n",
    "1. Hours\n",
    "2. Scores\n",
    "\n",
    "#### **Model Used**\n",
    "*LinearRegression* Model of Scikit Learn Package.\n",
    "\n"
   ]
  },
  {
   "cell_type": "markdown",
   "id": "1ba34dbe-caf8-477c-9a6d-85efd4c9a2f9",
   "metadata": {},
   "source": [
    "##### **Author: Subhajit Saha**\n"
   ]
  },
  {
   "cell_type": "code",
   "execution_count": 40,
   "id": "ccd939f3-2020-4b81-8329-44a313f68f41",
   "metadata": {},
   "outputs": [],
   "source": [
    "# importing all libraries required in this notebook"
   ]
  },
  {
   "cell_type": "code",
   "execution_count": 38,
   "id": "f700c8a8-e6a4-4391-8195-ced044b3ac5e",
   "metadata": {},
   "outputs": [],
   "source": [
    "import pandas as pd\n",
    "import sklearn\n",
    "import matplotlib.pyplot as plt\n",
    "import numpy as np"
   ]
  },
  {
   "cell_type": "code",
   "execution_count": 41,
   "id": "fe17902b-1d60-45ce-88b2-004f6a6cb242",
   "metadata": {},
   "outputs": [],
   "source": [
    "#importing the data from csv to a Dataframe with which we can work out the computations"
   ]
  },
  {
   "cell_type": "code",
   "execution_count": 47,
   "id": "d1b7b31e-9452-4e09-ac67-ee04e8201d14",
   "metadata": {},
   "outputs": [
    {
     "data": {
      "text/html": [
       "<div>\n",
       "<style scoped>\n",
       "    .dataframe tbody tr th:only-of-type {\n",
       "        vertical-align: middle;\n",
       "    }\n",
       "\n",
       "    .dataframe tbody tr th {\n",
       "        vertical-align: top;\n",
       "    }\n",
       "\n",
       "    .dataframe thead th {\n",
       "        text-align: right;\n",
       "    }\n",
       "</style>\n",
       "<table border=\"1\" class=\"dataframe\">\n",
       "  <thead>\n",
       "    <tr style=\"text-align: right;\">\n",
       "      <th></th>\n",
       "      <th>Hours</th>\n",
       "      <th>Scores</th>\n",
       "    </tr>\n",
       "  </thead>\n",
       "  <tbody>\n",
       "    <tr>\n",
       "      <th>0</th>\n",
       "      <td>2.5</td>\n",
       "      <td>21</td>\n",
       "    </tr>\n",
       "    <tr>\n",
       "      <th>1</th>\n",
       "      <td>5.1</td>\n",
       "      <td>47</td>\n",
       "    </tr>\n",
       "    <tr>\n",
       "      <th>2</th>\n",
       "      <td>3.2</td>\n",
       "      <td>27</td>\n",
       "    </tr>\n",
       "    <tr>\n",
       "      <th>3</th>\n",
       "      <td>8.5</td>\n",
       "      <td>75</td>\n",
       "    </tr>\n",
       "    <tr>\n",
       "      <th>4</th>\n",
       "      <td>3.5</td>\n",
       "      <td>30</td>\n",
       "    </tr>\n",
       "  </tbody>\n",
       "</table>\n",
       "</div>"
      ],
      "text/plain": [
       "   Hours  Scores\n",
       "0    2.5      21\n",
       "1    5.1      47\n",
       "2    3.2      27\n",
       "3    8.5      75\n",
       "4    3.5      30"
      ]
     },
     "execution_count": 47,
     "metadata": {},
     "output_type": "execute_result"
    }
   ],
   "source": [
    "study_time = pd.read_csv(\"https://raw.githubusercontent.com/AdiPersonalWorks/Random/master/student_scores%20-%20student_scores.csv\")\n",
    "study_time.head()"
   ]
  },
  {
   "cell_type": "code",
   "execution_count": 42,
   "id": "7892d7c1-1bc1-4b09-b9a2-4e2e3f6f2d97",
   "metadata": {},
   "outputs": [],
   "source": [
    "#Getting some information about the study_time Dataframe"
   ]
  },
  {
   "cell_type": "code",
   "execution_count": 43,
   "id": "b237fc37-07d4-41e2-89fb-0e517d3957cf",
   "metadata": {},
   "outputs": [
    {
     "name": "stdout",
     "output_type": "stream",
     "text": [
      "<class 'pandas.core.frame.DataFrame'>\n",
      "RangeIndex: 25 entries, 0 to 24\n",
      "Data columns (total 2 columns):\n",
      " #   Column  Non-Null Count  Dtype  \n",
      "---  ------  --------------  -----  \n",
      " 0   Hours   25 non-null     float64\n",
      " 1   Scores  25 non-null     int64  \n",
      "dtypes: float64(1), int64(1)\n",
      "memory usage: 528.0 bytes\n"
     ]
    }
   ],
   "source": [
    "study_time.info()"
   ]
  },
  {
   "cell_type": "code",
   "execution_count": 44,
   "id": "11b849a7-aa35-4102-b16d-491e6a9a2014",
   "metadata": {},
   "outputs": [],
   "source": [
    "#Analysing some summary statistics about the Data"
   ]
  },
  {
   "cell_type": "code",
   "execution_count": 5,
   "id": "03ee8eb9-bc24-42b8-8ecd-339d38f9d780",
   "metadata": {},
   "outputs": [
    {
     "data": {
      "text/html": [
       "<div>\n",
       "<style scoped>\n",
       "    .dataframe tbody tr th:only-of-type {\n",
       "        vertical-align: middle;\n",
       "    }\n",
       "\n",
       "    .dataframe tbody tr th {\n",
       "        vertical-align: top;\n",
       "    }\n",
       "\n",
       "    .dataframe thead th {\n",
       "        text-align: right;\n",
       "    }\n",
       "</style>\n",
       "<table border=\"1\" class=\"dataframe\">\n",
       "  <thead>\n",
       "    <tr style=\"text-align: right;\">\n",
       "      <th></th>\n",
       "      <th>Hours</th>\n",
       "      <th>Scores</th>\n",
       "    </tr>\n",
       "  </thead>\n",
       "  <tbody>\n",
       "    <tr>\n",
       "      <th>count</th>\n",
       "      <td>25.000000</td>\n",
       "      <td>25.000000</td>\n",
       "    </tr>\n",
       "    <tr>\n",
       "      <th>mean</th>\n",
       "      <td>5.012000</td>\n",
       "      <td>51.480000</td>\n",
       "    </tr>\n",
       "    <tr>\n",
       "      <th>std</th>\n",
       "      <td>2.525094</td>\n",
       "      <td>25.286887</td>\n",
       "    </tr>\n",
       "    <tr>\n",
       "      <th>min</th>\n",
       "      <td>1.100000</td>\n",
       "      <td>17.000000</td>\n",
       "    </tr>\n",
       "    <tr>\n",
       "      <th>25%</th>\n",
       "      <td>2.700000</td>\n",
       "      <td>30.000000</td>\n",
       "    </tr>\n",
       "    <tr>\n",
       "      <th>50%</th>\n",
       "      <td>4.800000</td>\n",
       "      <td>47.000000</td>\n",
       "    </tr>\n",
       "    <tr>\n",
       "      <th>75%</th>\n",
       "      <td>7.400000</td>\n",
       "      <td>75.000000</td>\n",
       "    </tr>\n",
       "    <tr>\n",
       "      <th>max</th>\n",
       "      <td>9.200000</td>\n",
       "      <td>95.000000</td>\n",
       "    </tr>\n",
       "  </tbody>\n",
       "</table>\n",
       "</div>"
      ],
      "text/plain": [
       "           Hours     Scores\n",
       "count  25.000000  25.000000\n",
       "mean    5.012000  51.480000\n",
       "std     2.525094  25.286887\n",
       "min     1.100000  17.000000\n",
       "25%     2.700000  30.000000\n",
       "50%     4.800000  47.000000\n",
       "75%     7.400000  75.000000\n",
       "max     9.200000  95.000000"
      ]
     },
     "execution_count": 5,
     "metadata": {},
     "output_type": "execute_result"
    }
   ],
   "source": [
    "study_time.describe()"
   ]
  },
  {
   "cell_type": "code",
   "execution_count": 45,
   "id": "b43e0129-e39a-42e0-b208-84bdea85c911",
   "metadata": {},
   "outputs": [],
   "source": [
    "#Finding out the correlation matrix to analyse the correlation between the two attributes"
   ]
  },
  {
   "cell_type": "code",
   "execution_count": 46,
   "id": "b58cd2c4-859f-45a3-a7d4-65b90799334f",
   "metadata": {},
   "outputs": [
    {
     "data": {
      "text/html": [
       "<div>\n",
       "<style scoped>\n",
       "    .dataframe tbody tr th:only-of-type {\n",
       "        vertical-align: middle;\n",
       "    }\n",
       "\n",
       "    .dataframe tbody tr th {\n",
       "        vertical-align: top;\n",
       "    }\n",
       "\n",
       "    .dataframe thead th {\n",
       "        text-align: right;\n",
       "    }\n",
       "</style>\n",
       "<table border=\"1\" class=\"dataframe\">\n",
       "  <thead>\n",
       "    <tr style=\"text-align: right;\">\n",
       "      <th></th>\n",
       "      <th>Hours</th>\n",
       "      <th>Scores</th>\n",
       "    </tr>\n",
       "  </thead>\n",
       "  <tbody>\n",
       "    <tr>\n",
       "      <th>Hours</th>\n",
       "      <td>1.00</td>\n",
       "      <td>0.98</td>\n",
       "    </tr>\n",
       "    <tr>\n",
       "      <th>Scores</th>\n",
       "      <td>0.98</td>\n",
       "      <td>1.00</td>\n",
       "    </tr>\n",
       "  </tbody>\n",
       "</table>\n",
       "</div>"
      ],
      "text/plain": [
       "        Hours  Scores\n",
       "Hours    1.00    0.98\n",
       "Scores   0.98    1.00"
      ]
     },
     "execution_count": 46,
     "metadata": {},
     "output_type": "execute_result"
    }
   ],
   "source": [
    "corr_matrix = study_time.corr().round(2)\n",
    "corr_matrix"
   ]
  },
  {
   "cell_type": "markdown",
   "id": "fc218f42-9f25-447a-a90e-83a1db231b3f",
   "metadata": {},
   "source": [
    "Hours and Scores are highly correlated with a value of 0.98."
   ]
  },
  {
   "cell_type": "markdown",
   "id": "5144b2fd-5069-45da-9da2-8b96aea33218",
   "metadata": {},
   "source": [
    "#### **Plotting the Scores vs Hours scatter plot to find some relationship about the data**"
   ]
  },
  {
   "cell_type": "code",
   "execution_count": 15,
   "id": "7a62cfb5-277c-491c-8514-ec50a7437328",
   "metadata": {},
   "outputs": [
    {
     "data": {
      "text/plain": [
       "<AxesSubplot:xlabel='Hours', ylabel='Scores'>"
      ]
     },
     "execution_count": 15,
     "metadata": {},
     "output_type": "execute_result"
    },
    {
     "data": {
      "image/png": "[encoded data removed]",
      "text/plain": [
       "<Figure size 576x432 with 1 Axes>"
      ]
     },
     "metadata": {
      "needs_background": "light"
     },
     "output_type": "display_data"
    }
   ],
   "source": [
    "study_time.plot(kind=\"scatter\",\n",
    "               x=\"Hours\",\n",
    "               y=\"Scores\",\n",
    "               figsize=(8,6))"
   ]
  },
  {
   "cell_type": "markdown",
   "id": "b7673ae7-2209-44ff-b449-3f321776ff43",
   "metadata": {},
   "source": [
    "Thus from the above graph we can see a positive linear relation of the Scores with hours."
   ]
  },
  {
   "cell_type": "markdown",
   "id": "94cc0f9d-7e80-40d4-87df-5855069dc91f",
   "metadata": {},
   "source": [
    "#### **Preparing the Data**"
   ]
  },
  {
   "cell_type": "code",
   "execution_count": 48,
   "id": "e6021e5c-d9b5-4f4d-b203-2205eb67c4d4",
   "metadata": {},
   "outputs": [],
   "source": [
    "#Taking out the Hours series and putting it in a 2D Dataframe object"
   ]
  },
  {
   "cell_type": "code",
   "execution_count": 49,
   "id": "91b7eaf6-880c-4b5b-b520-b37f2b6c716c",
   "metadata": {},
   "outputs": [
    {
     "name": "stdout",
     "output_type": "stream",
     "text": [
      "(25, 1)\n"
     ]
    }
   ],
   "source": [
    "X = study_time[[\"Hours\"]]\n",
    "print(X.shape)"
   ]
  },
  {
   "cell_type": "code",
   "execution_count": 50,
   "id": "ae5fe15d-254e-4f39-a6ce-5126de07b349",
   "metadata": {},
   "outputs": [],
   "source": [
    "#Taking out the Scores series and putting it in a 2D Dataframe object"
   ]
  },
  {
   "cell_type": "code",
   "execution_count": 51,
   "id": "78650cd6-9903-43f5-b6d5-86d79b39c120",
   "metadata": {},
   "outputs": [
    {
     "name": "stdout",
     "output_type": "stream",
     "text": [
      "(25, 1)\n"
     ]
    }
   ],
   "source": [
    "Y = study_time[[\"Scores\"]]\n",
    "print(Y.shape)"
   ]
  },
  {
   "cell_type": "markdown",
   "id": "ad9873cb-4f58-42b9-9e44-24de78cdd9d8",
   "metadata": {},
   "source": [
    "y = c + m * x\n",
    "\n",
    "y --> Scores (Output variable)\n",
    "\n",
    "x --> Hours (Input variable)\n",
    "\n",
    "Now that we have our attributes and labels listed above, we are going to split the data into training and testing sets. We will do this with Scikit Learn's built in function train_test_split():"
   ]
  },
  {
   "cell_type": "code",
   "execution_count": 19,
   "id": "13cd7b3c-e200-4dbe-9210-0bf973669ef3",
   "metadata": {},
   "outputs": [],
   "source": [
    "from sklearn.model_selection import train_test_split"
   ]
  },
  {
   "cell_type": "code",
   "execution_count": 20,
   "id": "7fae694b-7952-471c-9829-8f4431acb0c5",
   "metadata": {},
   "outputs": [],
   "source": [
    "X_train,X_test,Y_train,Y_test = train_test_split(X,Y,test_size=0.3,random_state=1)"
   ]
  },
  {
   "cell_type": "code",
   "execution_count": 21,
   "id": "ab75bfd6-12f8-4461-9211-4eac19003745",
   "metadata": {},
   "outputs": [
    {
     "name": "stdout",
     "output_type": "stream",
     "text": [
      "(17, 1)\n",
      "(8, 1)\n",
      "(17, 1)\n",
      "(8, 1)\n"
     ]
    }
   ],
   "source": [
    "print(X_train.shape)\n",
    "print(X_test.shape)\n",
    "print(Y_train.shape)\n",
    "print(Y_test.shape)"
   ]
  },
  {
   "cell_type": "markdown",
   "id": "58a9bc92-9cfb-44a2-a801-b173e08fbe3a",
   "metadata": {},
   "source": [
    "#### **Training the Algorithm**"
   ]
  },
  {
   "cell_type": "code",
   "execution_count": 58,
   "id": "68645f12-6196-4fbb-b6ea-8431e7143248",
   "metadata": {},
   "outputs": [
    {
     "data": {
      "text/plain": [
       "LinearRegression()"
      ]
     },
     "execution_count": 58,
     "metadata": {},
     "output_type": "execute_result"
    }
   ],
   "source": [
    "from sklearn.linear_model import LinearRegression\n",
    "model = LinearRegression()\n",
    "model.fit(X_train,Y_train)"
   ]
  },
  {
   "cell_type": "code",
   "execution_count": 70,
   "id": "9514ad5a-4ea8-4079-86fe-ac4e195ce891",
   "metadata": {},
   "outputs": [
    {
     "name": "stdout",
     "output_type": "stream",
     "text": [
      "The intercept of the model is :  -1.51\n",
      "The slope of the model is :  10.41\n"
     ]
    }
   ],
   "source": [
    "print(\"The intercept of the model is : \",model.intercept_.round(2)[0])\n",
    "print(\"The slope of the model is : \",model.coef_.round(2)[0][0])"
   ]
  },
  {
   "cell_type": "markdown",
   "id": "ad537297-e850-4bab-b924-b492a399c9a2",
   "metadata": {},
   "source": [
    "#### **Making Predictions**"
   ]
  },
  {
   "cell_type": "code",
   "execution_count": 59,
   "id": "b850d72c-c1ae-4283-b826-ced08a8c8c1f",
   "metadata": {},
   "outputs": [
    {
     "data": {
      "text/plain": [
       "(8, 1)"
      ]
     },
     "execution_count": 59,
     "metadata": {},
     "output_type": "execute_result"
    }
   ],
   "source": [
    "Y_test_predicted = model.predict(X_test)\n",
    "Y_test_predicted.shape"
   ]
  },
  {
   "cell_type": "code",
   "execution_count": 71,
   "id": "dc7a802d-eab8-4967-90bd-0d8903233961",
   "metadata": {},
   "outputs": [],
   "source": [
    "#Plotting the testing data points vs the Prediction in a straight line"
   ]
  },
  {
   "cell_type": "code",
   "execution_count": 64,
   "id": "3ab37135-0d55-4ee6-a7a1-c1b646ca506d",
   "metadata": {},
   "outputs": [
    {
     "data": {
      "image/png": "[encoded data removed]",
      "text/plain": [
       "<Figure size 432x288 with 1 Axes>"
      ]
     },
     "metadata": {
      "needs_background": "light"
     },
     "output_type": "display_data"
    }
   ],
   "source": [
    "plt.scatter(X_test,Y_test,label=\"Testing data\")\n",
    "plt.plot(X_test,Y_test_predicted,label=\"Prediction\",linewidth=3)\n",
    "plt.xlabel(\"Hours\")\n",
    "plt.ylabel(\"Scores\")\n",
    "plt.legend(loc=\"upper left\")\n",
    "plt.show()"
   ]
  },
  {
   "cell_type": "code",
   "execution_count": 72,
   "id": "e4acb2ef-9860-4c3d-97b7-0153a6f0bb91",
   "metadata": {},
   "outputs": [],
   "source": [
    "#Plotting the difference between the testing data and the predicted data points"
   ]
  },
  {
   "cell_type": "code",
   "execution_count": 74,
   "id": "cb6ad0fb-2363-4a1b-815e-645feb0d14a1",
   "metadata": {},
   "outputs": [
    {
     "data": {
      "image/png": "[encoded data removed]",
      "text/plain": [
       "<Figure size 432x288 with 1 Axes>"
      ]
     },
     "metadata": {
      "needs_background": "light"
     },
     "output_type": "display_data"
    }
   ],
   "source": [
    "difference = Y_test - Y_test_predicted\n",
    "plt.scatter(X_test,difference)\n",
    "plt.axhline(y = 0.0, color = 'r', linestyle = '--')\n",
    "plt.xlabel('Hours')\n",
    "plt.ylabel(\"Difference in Prediction\")\n",
    "plt.show()"
   ]
  },
  {
   "cell_type": "markdown",
   "id": "d5e32474-e15c-4a15-a9e9-699b378e99e5",
   "metadata": {},
   "source": [
    "#### **Evaluating the model**"
   ]
  },
  {
   "cell_type": "code",
   "execution_count": 75,
   "id": "207736fa-cf01-494d-88c9-f7de02ec5870",
   "metadata": {},
   "outputs": [
    {
     "name": "stdout",
     "output_type": "stream",
     "text": [
      "R squared score of the model :  0.8933827573294114\n"
     ]
    }
   ],
   "source": [
    "print(\"R squared score of the model : \",model.score(X_test,Y_test))"
   ]
  },
  {
   "cell_type": "code",
   "execution_count": 76,
   "id": "79f6f082-a3c1-455d-9166-797e0be0c7da",
   "metadata": {},
   "outputs": [
    {
     "name": "stdout",
     "output_type": "stream",
     "text": [
      "Mean Squared Error of the model:  56.092330905646705\n"
     ]
    }
   ],
   "source": [
    "from sklearn.metrics import mean_squared_error\n",
    "print(\"Mean Squared Error of the model: \",mean_squared_error(Y_test,Y_test_predicted))"
   ]
  },
  {
   "cell_type": "code",
   "execution_count": 77,
   "id": "1144dcc6-abe7-4480-a2c1-47533a5cd4ee",
   "metadata": {},
   "outputs": [
    {
     "name": "stdout",
     "output_type": "stream",
     "text": [
      "Mean Absolute Error:  7.169048271425507\n"
     ]
    }
   ],
   "source": [
    "from sklearn import metrics\n",
    "print(\"Mean Absolute Error: \",metrics.mean_absolute_error\n",
    "     (Y_test,Y_test_predicted))"
   ]
  },
  {
   "cell_type": "markdown",
   "id": "00704785-49a3-4d72-a37a-5140ded97934",
   "metadata": {},
   "source": [
    "#### **Testing With an Input Data**"
   ]
  },
  {
   "cell_type": "code",
   "execution_count": 80,
   "id": "f4531447-3a03-4034-a62a-844b8ee773df",
   "metadata": {},
   "outputs": [
    {
     "name": "stdout",
     "output_type": "stream",
     "text": [
      "Predicted Score for the datapoint: 94.78722212956563\n"
     ]
    }
   ],
   "source": [
    "new_data = np.array([9.25]).reshape(-1,1)\n",
    "print(\"Predicted Score for the datapoint:\",\n",
    "       model.predict(new_data)[0][0])"
   ]
  }
 ],
 "metadata": {
  "kernelspec": {
   "display_name": "Python 3",
   "language": "python",
   "name": "python3"
  },
  "language_info": {
   "codemirror_mode": {
    "name": "ipython",
    "version": 3
   },
   "file_extension": ".py",
   "mimetype": "text/x-python",
   "name": "python",
   "nbconvert_exporter": "python",
   "pygments_lexer": "ipython3",
   "version": "3.6.9"
  }
 },
 "nbformat": 4,
 "nbformat_minor": 5
}
